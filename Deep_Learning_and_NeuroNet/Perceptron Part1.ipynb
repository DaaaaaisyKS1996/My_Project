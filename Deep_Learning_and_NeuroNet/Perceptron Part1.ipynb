{
 "cells": [
  {
   "attachments": {},
   "cell_type": "markdown",
   "metadata": {},
   "source": [
    "# Assignment Part 1: Perceptron Template\n",
    "\n",
    "This file contains the template code for the Perceptron.\n",
    "\n",
    "### Perceptron Class\n",
    "\n",
    "#### Main\n",
    "\n",
    "The following cell should:\n",
    "1. Load the fashion mnist training and testing data.\n",
    "2. Create a Perceptron node.\n",
    "3. Train and test the node.\n",
    "4. Print out clothes/shoes and weights."
   ]
  },
  {
   "cell_type": "markdown",
   "metadata": {},
   "source": [
    "### 1.1 The implementation of the Perceptron Class  \n",
    "### 1.2 Update to full batch learning (see comment)  \n",
    "### 1.3 Use the sigmoid activation function (see comment)  "
   ]
  },
  {
   "cell_type": "code",
   "execution_count": 18,
   "metadata": {},
   "outputs": [],
   "source": [
    "import numpy as np\n",
    "import matplotlib.pyplot as plt\n",
    "\n",
    "class Perceptron(object):\n",
    "    def __init__(self, no_inputs, max_iterations=20, learning_rate=0.1, activation=\"step\"):\n",
    "        self.no_inputs = no_inputs\n",
    "        self.weights = np.ones(no_inputs) / no_inputs \n",
    "        self.max_iter = max_iterations\n",
    "        self.learning_rate = learning_rate\n",
    "        self.activation = activation\n",
    "\n",
    "    def print_details(self):\n",
    "        print(\"No. inputs:\\t\" + str(self.no_inputs))\n",
    "        print(\"Max iterations:\\t\" + str(self.max_iter))\n",
    "        print(\"Learning rate:\\t\" + str(self.learning_rate))\n",
    "\n",
    "     # Update for 1.3\n",
    "    def activate_sigmoid(self, a):\n",
    "        if a >= 0:\n",
    "            return 1 / (1 + np.exp(-a))\n",
    "        else:\n",
    "            z = np.exp(a)\n",
    "            return z / (1 + z)\n",
    "    \n",
    "    def activate_step(self, a):\n",
    "        return 1 if a >= 0 else 0\n",
    "\n",
    "    def do_predict(self, x):\n",
    "        # Combine input with weights and apply activation function\n",
    "        activation = np.dot(x, self.weights)\n",
    "        if self.activation == \"sigmoid\":\n",
    "            return self.activate_sigmoid(activation)\n",
    "        else:\n",
    "            return self.activate_step(activation)\n",
    "\n",
    "    def do_train_online(self, training_data, labels):\n",
    "        assert len(training_data) == len(labels)\n",
    "        for iteration in range(self.max_iter):\n",
    "            for x, label in zip(training_data, labels):\n",
    "                prediction = self.do_predict(x)\n",
    "                error = label - prediction\n",
    "                self.weights += self.learning_rate * error * np.array(x)\n",
    "\n",
    "     # Update for 1.2\n",
    "    def do_train_batch(self, training_data, labels):\n",
    "        assert len(training_data) == len(labels)\n",
    "        for iteration in range(self.max_iter):\n",
    "            weight_update = np.zeros(self.no_inputs)\n",
    "            for x, label in zip(training_data, labels):\n",
    "                prediction = self.do_predict(x)\n",
    "                error = label - prediction\n",
    "                weight_update += self.learning_rate * error * np.array(x)\n",
    "            \n",
    "            # Here the weight update vector is divided by the total number of samples to achieve average gradient descent\n",
    "            self.weights += weight_update / len(training_data)\n",
    "            \n",
    "\n",
    "    def test(self, testing_data, labels):\n",
    "        assert len(testing_data) == len(labels)\n",
    "\n",
    "        prediction = np.array([self.do_predict(x) for x in testing_data])\n",
    "\n",
    "        true_positives = np.sum((prediction == 1) & (labels == 1))\n",
    "        true_negatives = np.sum((prediction == 0) & (labels == 0))\n",
    "        false_positives = np.sum((prediction == 1) & (labels == 0))\n",
    "        false_negatives = np.sum((prediction == 0) & (labels == 1))\n",
    "    \n",
    "        accuracy = (true_positives + true_negatives) / len(labels) if len(labels) > 0 else 0\n",
    "        precision = true_positives / (true_positives + false_positives) if true_positives + false_positives > 0 else 0\n",
    "        recall = true_positives / (true_positives + false_negatives) if true_positives + false_negatives > 0 else 0\n",
    "    \n",
    "        print(f\"Accuracy: {accuracy:.4f}\")\n",
    "        print(f\"Precision: {precision:.4f}\")\n",
    "        print(f\"Recall: {recall:.4f}\")\n",
    "    \n",
    "    def get_weights(self):\n",
    "        return self.weights\n"
   ]
  },
  {
   "cell_type": "code",
   "execution_count": 16,
   "metadata": {},
   "outputs": [],
   "source": [
    "import pandas as pd\n",
    "import matplotlib.pyplot as plt\n",
    "\n",
    "# Load CSV as Pandas df\n",
    "train_df = pd.read_csv('overhead_mnist_train.csv')\n",
    "test_df = pd.read_csv('overhead_mnist_test.csv')\n",
    "type_df = pd.read_csv('overhead_mnist_classes.csv')\n",
    "# Set the first column as lable\n",
    "X_train = train_df.iloc[:, 1:].values  # Select all columns after the first column as features\n",
    "y_train = train_df.iloc[:, 0].values  # Select the first column as label\n",
    "X_test = test_df.iloc[:, 1:].values  # Same\n",
    "y_test = test_df.iloc[:, 0].values  # Same\n",
    "\n",
    "def UsingPerceptron(dataset_type = 'ship', train_method = 'online', activation=\"step\"):    \n",
    "    # preprocess (binary classification)\n",
    "    label = type_df[type_df['class'] == dataset_type]['label'].iloc[0]\n",
    "    y_train_type = (y_train == label).astype(int)  # Change the predicted type to 1，and set others to zero\n",
    "    y_test_type = (y_test == label).astype(int)    # Same as above\n",
    "    \n",
    "    p = Perceptron(no_inputs = X_train.shape[1], activation = activation)\n",
    "    if train_method == 'batch':\n",
    "        p.do_train_batch(X_train, y_train_type)\n",
    "    else:\n",
    "        p.do_train_online(X_train, y_train_type)\n",
    "    p.test(X_test, y_test_type)\n",
    "    return p"
   ]
  },
  {
   "cell_type": "code",
   "execution_count": 17,
   "metadata": {},
   "outputs": [
    {
     "name": "stdout",
     "output_type": "stream",
     "text": [
      "Accuracy: 0.9244\n",
      "Precision: 0.6548\n",
      "Recall: 0.5811\n"
     ]
    }
   ],
   "source": [
    "#  1.1 Result:activation function: step, learning: online\n",
    "p = UsingPerceptron('ship', 'online', 'step')"
   ]
  },
  {
   "cell_type": "code",
   "execution_count": 4,
   "metadata": {},
   "outputs": [
    {
     "name": "stdout",
     "output_type": "stream",
     "text": [
      "Accuracy: 0.8320\n",
      "Precision: 0.3184\n",
      "Recall: 0.5360\n"
     ]
    }
   ],
   "source": [
    "#  1.2 Result example:activation function: step, learning: batch\n",
    "p = UsingPerceptron('ship', 'batch', 'step')"
   ]
  },
  {
   "cell_type": "code",
   "execution_count": 5,
   "metadata": {},
   "outputs": [
    {
     "name": "stdout",
     "output_type": "stream",
     "text": [
      "Accuracy: 0.9256\n",
      "Precision: 0.6924\n",
      "Recall: 0.5146\n"
     ]
    }
   ],
   "source": [
    "#  1.3 Result example:activation function: sigmoid, learning: online\n",
    "p = UsingPerceptron('ship', 'online', 'sigmoid')"
   ]
  },
  {
   "cell_type": "markdown",
   "metadata": {},
   "source": [
    "### 1.4 Perform analysis over the different combinations for the best results: \n",
    "- activation: step, learning: online\n",
    "- activation: step, learning: batch\n",
    "- activation: sigmoid, learning: online\n",
    "- activation: sigmoid, learning: batch."
   ]
  },
  {
   "cell_type": "markdown",
   "metadata": {},
   "source": [
    "### !!For batch training in other categories, we need to adjust the Learning Rate & Iteration for better result!!\n",
    "\n",
    "Currently only the 'ship' category can get good trained result.\n",
    "The full batch training has lower Accuracy/Precision/Recall rate in either sigmoid or step fuction."
   ]
  },
  {
   "cell_type": "code",
   "execution_count": 6,
   "metadata": {},
   "outputs": [
    {
     "name": "stdout",
     "output_type": "stream",
     "text": [
      "Accuracy: 0.8289\n",
      "Precision: 0.3186\n",
      "Recall: 0.5415\n"
     ]
    }
   ],
   "source": [
    "#test model and show result example:activation function: sigmoid, learning: batch\n",
    "p_example = UsingPerceptron('ship', 'batch', 'sigmoid')"
   ]
  },
  {
   "cell_type": "code",
   "execution_count": 7,
   "metadata": {},
   "outputs": [
    {
     "name": "stdout",
     "output_type": "stream",
     "text": [
      "activation: step, learning: online\n",
      "\n",
      "type:car\n",
      "Accuracy: 0.9145\n",
      "Precision: 0.7838\n",
      "Recall: 0.2589\n",
      "\n",
      "type:harbor\n",
      "Accuracy: 0.8800\n",
      "Precision: 0.3681\n",
      "Recall: 0.2106\n",
      "\n",
      "type:helicopter\n",
      "Accuracy: 0.9278\n",
      "Precision: 0.6541\n",
      "Recall: 0.1326\n",
      "\n",
      "type:oil_gas_field\n",
      "Accuracy: 0.8435\n",
      "Precision: 0.2438\n",
      "Recall: 0.2457\n",
      "\n",
      "type:parking_lot\n",
      "Accuracy: 0.8924\n",
      "Precision: 0.0800\n",
      "Recall: 0.0022\n",
      "\n",
      "type:plane\n",
      "Accuracy: 0.9033\n",
      "Precision: 0.5930\n",
      "Recall: 0.2297\n",
      "\n",
      "type:runway_mark\n",
      "Accuracy: 0.8928\n",
      "Precision: 0.0087\n",
      "Recall: 0.0013\n",
      "\n",
      "type:ship\n",
      "Accuracy: 0.9244\n",
      "Precision: 0.6548\n",
      "Recall: 0.5811\n",
      "\n",
      "type:stadium\n",
      "Accuracy: 0.8982\n",
      "Precision: 0.2353\n",
      "Recall: 0.0143\n",
      "\n",
      "type:storage_tank\n",
      "Accuracy: 0.8821\n",
      "Precision: 0.3700\n",
      "Recall: 0.1858\n"
     ]
    }
   ],
   "source": [
    "#activation: step, learning: online\n",
    "print('activation: step, learning: online')\n",
    "for index, row in type_df.iterrows():\n",
    "    class_name = row['class']\n",
    "    print('\\ntype:'+class_name)\n",
    "    p = UsingPerceptron(class_name, 'online', 'step')\n"
   ]
  },
  {
   "cell_type": "code",
   "execution_count": 8,
   "metadata": {},
   "outputs": [
    {
     "name": "stdout",
     "output_type": "stream",
     "text": [
      "\n",
      "type:car\n",
      "Accuracy: 0.8948\n",
      "Precision: 0.0000\n",
      "Recall: 0.0000\n",
      "\n",
      "type:harbor\n",
      "Accuracy: 0.8958\n",
      "Precision: 0.0000\n",
      "Recall: 0.0000\n",
      "\n",
      "type:helicopter\n",
      "Accuracy: 0.9230\n",
      "Precision: 0.0000\n",
      "Recall: 0.0000\n",
      "\n",
      "type:oil_gas_field\n",
      "Accuracy: 0.8968\n",
      "Precision: 0.0000\n",
      "Recall: 0.0000\n",
      "\n",
      "type:parking_lot\n",
      "Accuracy: 0.8948\n",
      "Precision: 0.0000\n",
      "Recall: 0.0000\n",
      "\n",
      "type:plane\n",
      "Accuracy: 0.8958\n",
      "Precision: 0.0000\n",
      "Recall: 0.0000\n",
      "\n",
      "type:runway_mark\n",
      "Accuracy: 0.9061\n",
      "Precision: 0.0000\n",
      "Recall: 0.0000\n",
      "\n",
      "type:ship\n",
      "Accuracy: 0.8320\n",
      "Precision: 0.3184\n",
      "Recall: 0.5360\n",
      "\n",
      "type:stadium\n",
      "Accuracy: 0.9014\n",
      "Precision: 0.0000\n",
      "Recall: 0.0000\n",
      "\n",
      "type:storage_tank\n",
      "Accuracy: 0.8962\n",
      "Precision: 1.0000\n",
      "Recall: 0.0045\n"
     ]
    }
   ],
   "source": [
    "# activation: step, learning: batch\n",
    "# important: please adjust the learning rate and iteration for better result in other catergories\n",
    "for index, row in type_df.iterrows():\n",
    "    class_name = row['class']\n",
    "    print('\\ntype:'+class_name)\n",
    "    p = UsingPerceptron(class_name, 'batch', 'step')"
   ]
  },
  {
   "cell_type": "code",
   "execution_count": 9,
   "metadata": {},
   "outputs": [
    {
     "name": "stdout",
     "output_type": "stream",
     "text": [
      "\n",
      "type:car\n",
      "Accuracy: 0.9165\n",
      "Precision: 0.6252\n",
      "Recall: 0.5156\n",
      "\n",
      "type:harbor\n",
      "Accuracy: 0.8936\n",
      "Precision: 0.4719\n",
      "Recall: 0.1700\n",
      "\n",
      "type:helicopter\n",
      "Accuracy: 0.9273\n",
      "Precision: 0.6194\n",
      "Recall: 0.1463\n",
      "\n",
      "type:oil_gas_field\n",
      "Accuracy: 0.8222\n",
      "Precision: 0.2201\n",
      "Recall: 0.2844\n",
      "\n",
      "type:parking_lot\n",
      "Accuracy: 0.8941\n",
      "Precision: 0.0000\n",
      "Recall: 0.0000\n",
      "\n",
      "type:plane\n",
      "Accuracy: 0.9015\n",
      "Precision: 0.5617\n",
      "Recall: 0.2514\n",
      "\n",
      "type:runway_mark\n",
      "Accuracy: 0.8981\n",
      "Precision: 0.0000\n",
      "Recall: 0.0000\n",
      "\n",
      "type:ship\n",
      "Accuracy: 0.9256\n",
      "Precision: 0.6924\n",
      "Recall: 0.5146\n",
      "\n",
      "type:stadium\n",
      "Accuracy: 0.8988\n",
      "Precision: 0.2105\n",
      "Recall: 0.0095\n",
      "\n",
      "type:storage_tank\n",
      "Accuracy: 0.8095\n",
      "Precision: 0.2589\n",
      "Recall: 0.4426\n"
     ]
    }
   ],
   "source": [
    "\n",
    "#activation: sigmoid, learning: online\n",
    "for index, row in type_df.iterrows():\n",
    "    class_name = row['class']\n",
    "    print('\\ntype:'+class_name)\n",
    "    p = UsingPerceptron(class_name, 'online', 'sigmoid')"
   ]
  },
  {
   "cell_type": "code",
   "execution_count": 10,
   "metadata": {},
   "outputs": [
    {
     "name": "stdout",
     "output_type": "stream",
     "text": [
      "\n",
      "type:car\n",
      "Accuracy: 0.8948\n",
      "Precision: 0.0000\n",
      "Recall: 0.0000\n",
      "\n",
      "type:harbor\n",
      "Accuracy: 0.8958\n",
      "Precision: 0.0000\n",
      "Recall: 0.0000\n",
      "\n",
      "type:helicopter\n",
      "Accuracy: 0.9230\n",
      "Precision: 0.0000\n",
      "Recall: 0.0000\n",
      "\n",
      "type:oil_gas_field\n",
      "Accuracy: 0.8968\n",
      "Precision: 0.0000\n",
      "Recall: 0.0000\n",
      "\n",
      "type:parking_lot\n",
      "Accuracy: 0.8948\n",
      "Precision: 0.0000\n",
      "Recall: 0.0000\n",
      "\n",
      "type:plane\n",
      "Accuracy: 0.8958\n",
      "Precision: 0.0000\n",
      "Recall: 0.0000\n",
      "\n",
      "type:runway_mark\n",
      "Accuracy: 0.9061\n",
      "Precision: 0.0000\n",
      "Recall: 0.0000\n",
      "\n",
      "type:ship\n",
      "Accuracy: 0.8289\n",
      "Precision: 0.3186\n",
      "Recall: 0.5415\n",
      "\n",
      "type:stadium\n",
      "Accuracy: 0.9014\n",
      "Precision: 0.0000\n",
      "Recall: 0.0000\n",
      "\n",
      "type:storage_tank\n",
      "Accuracy: 0.8962\n",
      "Precision: 1.0000\n",
      "Recall: 0.0045\n"
     ]
    }
   ],
   "source": [
    "#activation: sigmoid, learning: batch\n",
    "# important: please adjust the learning rate and iteration for better result in other catergories\n",
    "for index, row in type_df.iterrows():\n",
    "    class_name = row['class']\n",
    "    print('\\ntype:'+class_name)\n",
    "    p = UsingPerceptron(class_name, 'batch', 'sigmoid')"
   ]
  },
  {
   "cell_type": "markdown",
   "metadata": {},
   "source": [
    "### 1.5 Print weights and O-MNIST data"
   ]
  },
  {
   "cell_type": "code",
   "execution_count": 11,
   "metadata": {},
   "outputs": [
    {
     "data": {
      "image/png": "[encoded data removed]",
      "text/plain": [
       "<Figure size 1200x600 with 2 Axes>"
      ]
     },
     "metadata": {},
     "output_type": "display_data"
    }
   ],
   "source": [
    "from PIL import Image\n",
    "import matplotlib.pyplot as plt\n",
    "\n",
    "# Find a 'plane' index\n",
    "plane_label = type_df[type_df['class'] == 'plane']['label'].iloc[0]\n",
    "plane_indices = np.where(y_test == plane_label)[0]\n",
    "\n",
    "plt.figure(figsize=(12, 6))\n",
    "plt.subplot(1, 2, 1)\n",
    "# Show the fist 'plane' image\n",
    "plane_image = X_test[plane_indices[0]].reshape(28, 28)\n",
    "current_img = Image.fromarray(plane_image.astype(np.uint8))\n",
    "# Change the figure size\n",
    "resized_image = current_img.resize((56, 56), Image.BILINEAR)\n",
    "# Plot the figure\n",
    "plt.imshow(resized_image, cmap=\"viridis\")\n",
    "plt.title('Example of Plane Image')\n",
    "plt.axis('off')\n",
    "\n",
    "# show the perceptron weights\n",
    "plt.subplot(1, 2, 2)\n",
    "weights = p_example.get_weights().reshape(28, 28)\n",
    "weights_min = weights.min()\n",
    "weights_max = weights.max()\n",
    "normalized_weights = (weights - weights_min) / (weights_max - weights_min)\n",
    "# Converts normalized image data back to a range of 0-255 and uint8\n",
    "current_img = Image.fromarray((normalized_weights*255).astype(np.uint8))   \n",
    "resized_image = current_img.resize((56, 56), Image.BILINEAR)\n",
    "plt.imshow(resized_image, cmap='viridis')\n",
    "plt.title('Perceptron Weights for \"plane\"')\n",
    "plt.axis('off')\n",
    "\n",
    "plt.show()"
   ]
  },
  {
   "cell_type": "markdown",
   "metadata": {},
   "source": []
  }
 ],
 "metadata": {
  "kernelspec": {
   "display_name": "pyresearch3",
   "language": "python",
   "name": "python3"
  },
  "language_info": {
   "codemirror_mode": {
    "name": "ipython",
    "version": 3
   },
   "file_extension": ".py",
   "mimetype": "text/x-python",
   "name": "python",
   "nbconvert_exporter": "python",
   "pygments_lexer": "ipython3",
   "version": "3.11.5"
  },
  "vscode": {
   "interpreter": {
    "hash": "dddedaa35bad3fac85e6b892adc5ae6a6e37a1f5099d423ec882876c2ee1a6ff"
   }
  }
 },
 "nbformat": 4,
 "nbformat_minor": 4
}
